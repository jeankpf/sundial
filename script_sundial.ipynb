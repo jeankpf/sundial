{
 "cells": [
  {
   "cell_type": "code",
   "execution_count": 1,
   "metadata": {},
   "outputs": [
    {
     "name": "stdout",
     "output_type": "stream",
     "text": [
      "Populating the interactive namespace from numpy and matplotlib\n"
     ]
    }
   ],
   "source": [
    "%matplotlib inline\n",
    "%pylab inline"
   ]
  },
  {
   "cell_type": "code",
   "execution_count": 2,
   "metadata": {},
   "outputs": [],
   "source": [
    "import orekit\n",
    "vm = orekit.initVM()"
   ]
  },
  {
   "cell_type": "code",
   "execution_count": 3,
   "metadata": {},
   "outputs": [],
   "source": [
    "from orekit.pyhelpers import setup_orekit_curdir\n",
    "setup_orekit_curdir()"
   ]
  },
  {
   "cell_type": "code",
   "execution_count": 4,
   "metadata": {},
   "outputs": [],
   "source": [
    "from Sundial import Sundial, UTC2LocalTime, localTime2UTC\n",
    "from org.orekit.time import AbsoluteDate, TimeScalesFactory"
   ]
  },
  {
   "cell_type": "code",
   "execution_count": 5,
   "metadata": {},
   "outputs": [],
   "source": [
    "from math import *"
   ]
  },
  {
   "cell_type": "code",
   "execution_count": 6,
   "metadata": {},
   "outputs": [],
   "source": [
    "SUNDIAL = Sundial()"
   ]
  },
  {
   "cell_type": "code",
   "execution_count": 7,
   "metadata": {},
   "outputs": [],
   "source": [
    "LOCALDATE = AbsoluteDate(2020, 8, 26, 14, 32, 0.0, TimeScalesFactory.getUTC())"
   ]
  },
  {
   "cell_type": "code",
   "execution_count": 8,
   "metadata": {},
   "outputs": [
    {
     "data": {
      "text/plain": [
       "<AbsoluteDate: 2020-08-26T12:32:00.000>"
      ]
     },
     "execution_count": 8,
     "metadata": {},
     "output_type": "execute_result"
    }
   ],
   "source": [
    "UTCDATE = localTime2UTC(LOCALDATE, 1, True)\n",
    "UTCDATE"
   ]
  },
  {
   "cell_type": "code",
   "execution_count": 9,
   "metadata": {},
   "outputs": [
    {
     "data": {
      "text/plain": [
       "<Vector3D: {-39,328,817,328.46611; -90,015,653,932.21771; 114,890,237,998.1438}>"
      ]
     },
     "execution_count": 9,
     "metadata": {},
     "output_type": "execute_result"
    }
   ],
   "source": [
    "SUNDIAL.getSunPosInStationFrame(UTCDATE)"
   ]
  },
  {
   "cell_type": "code",
   "execution_count": 10,
   "metadata": {},
   "outputs": [
    {
     "data": {
      "text/plain": [
       "49.469243214543965"
      ]
     },
     "execution_count": 10,
     "metadata": {},
     "output_type": "execute_result"
    }
   ],
   "source": [
    "SUNDIAL.getSunElevationDegrees(UTCDATE)"
   ]
  },
  {
   "cell_type": "code",
   "execution_count": 11,
   "metadata": {},
   "outputs": [
    {
     "data": {
      "text/plain": [
       "49.458151905044936"
      ]
     },
     "execution_count": 11,
     "metadata": {},
     "output_type": "execute_result"
    }
   ],
   "source": [
    "SUNDIAL.getSunElevationDegrees(UTCDATE.shiftedBy(10.0))"
   ]
  },
  {
   "cell_type": "code",
   "execution_count": 12,
   "metadata": {},
   "outputs": [
    {
     "data": {
      "text/plain": [
       "0.8550094946053943"
      ]
     },
     "execution_count": 12,
     "metadata": {},
     "output_type": "execute_result"
    }
   ],
   "source": [
    "SUNDIAL.getGnomonShadowLength(UTCDATE)"
   ]
  },
  {
   "cell_type": "code",
   "execution_count": 13,
   "metadata": {},
   "outputs": [
    {
     "data": {
      "text/plain": [
       "203.60103963585928"
      ]
     },
     "execution_count": 13,
     "metadata": {},
     "output_type": "execute_result"
    }
   ],
   "source": [
    "SUNDIAL.getGnomonShadowAzimtuhDegrees(UTCDATE)"
   ]
  },
  {
   "cell_type": "code",
   "execution_count": 14,
   "metadata": {},
   "outputs": [
    {
     "data": {
      "text/plain": [
       "293.60103963585925"
      ]
     },
     "execution_count": 14,
     "metadata": {},
     "output_type": "execute_result"
    }
   ],
   "source": [
    "SUNDIAL.getGnomonShadowAngleWRTXDegrees(UTCDATE)"
   ]
  },
  {
   "cell_type": "code",
   "execution_count": 15,
   "metadata": {},
   "outputs": [
    {
     "data": {
      "text/plain": [
       "<AbsoluteDate: 2020-08-26T13:30:40.000>"
      ]
     },
     "execution_count": 15,
     "metadata": {},
     "output_type": "execute_result"
    }
   ],
   "source": [
    "SUNDIAL.getZenithLocalTime(2020, 8, 26, True)"
   ]
  },
  {
   "cell_type": "code",
   "execution_count": 16,
   "metadata": {},
   "outputs": [
    {
     "data": {
      "text/plain": [
       "<AbsoluteDate: 2020-08-26T11:30:40.000>"
      ]
     },
     "execution_count": 16,
     "metadata": {},
     "output_type": "execute_result"
    }
   ],
   "source": [
    "SUNDIAL.getZenithUTC(2020, 8, 26)"
   ]
  },
  {
   "cell_type": "code",
   "execution_count": 17,
   "metadata": {},
   "outputs": [
    {
     "data": {
      "text/plain": [
       "51.570945274565936"
      ]
     },
     "execution_count": 17,
     "metadata": {},
     "output_type": "execute_result"
    }
   ],
   "source": [
    "eleMax, _ = SUNDIAL.getSunMaxElevation(2020, 8, 26)\n",
    "degrees(eleMax)"
   ]
  },
  {
   "cell_type": "code",
   "execution_count": 18,
   "metadata": {},
   "outputs": [
    {
     "data": {
      "text/plain": [
       "[4.7120807640670295,\n",
       " 5.115803521709525,\n",
       " 5.467342096359319,\n",
       " 5.7552638801861455,\n",
       " 5.994540639280256,\n",
       " 6.204219517156288,\n",
       " 6.400163935178076,\n",
       " 6.595119615571736,\n",
       " 6.800026990352939,\n",
       " 7.024590387989608,\n",
       " 7.276103899350736,\n",
       " 7.555816112630137]"
      ]
     },
     "execution_count": 18,
     "metadata": {},
     "output_type": "execute_result"
    }
   ],
   "source": [
    "SUNDIAL.getAllGnomonShadowAngle(2020, 8, 26)"
   ]
  },
  {
   "cell_type": "code",
   "execution_count": 19,
   "metadata": {},
   "outputs": [
    {
     "data": {
      "text/plain": [
       "[269.982340505821,\n",
       " 293.113950612119,\n",
       " 313.25562727559685,\n",
       " 329.75233031875206,\n",
       " 343.4618787504131,\n",
       " 355.47559350574875,\n",
       " 366.7023816775444,\n",
       " 377.8725193562025,\n",
       " 389.61284712227075,\n",
       " 402.47938203997,\n",
       " 416.8900447314783,\n",
       " 432.9163740306511]"
      ]
     },
     "execution_count": 19,
     "metadata": {},
     "output_type": "execute_result"
    }
   ],
   "source": [
    "SUNDIAL.getAllGnomonShadowAngleDegrees(2020, 8, 26)"
   ]
  },
  {
   "cell_type": "code",
   "execution_count": 22,
   "metadata": {},
   "outputs": [
    {
     "data": {
      "text/plain": [
       "[270.167802273627,\n",
       " 294.87179028542755,\n",
       " 315.8696631377646,\n",
       " 332.6174449453188,\n",
       " 346.30756511653857,\n",
       " 358.2196133589414,\n",
       " 369.3289443786549,\n",
       " 380.37147854684883,\n",
       " 391.9448265987055,\n",
       " 404.54696934763143,\n",
       " 418.51816258631294,\n",
       " 433.87406129074276]"
      ]
     },
     "execution_count": 22,
     "metadata": {},
     "output_type": "execute_result"
    }
   ],
   "source": [
    "SUNDIAL.getAllGnomonShadowAngleDegrees(2020, 4, 26)"
   ]
  }
 ],
 "metadata": {
  "kernelspec": {
   "display_name": "Python 3",
   "language": "python",
   "name": "python3"
  },
  "language_info": {
   "codemirror_mode": {
    "name": "ipython",
    "version": 3
   },
   "file_extension": ".py",
   "mimetype": "text/x-python",
   "name": "python",
   "nbconvert_exporter": "python",
   "pygments_lexer": "ipython3",
   "version": "3.8.3"
  }
 },
 "nbformat": 4,
 "nbformat_minor": 4
}
