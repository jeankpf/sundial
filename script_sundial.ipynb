{
 "cells": [
  {
   "cell_type": "markdown",
   "metadata": {},
   "source": [
    "# Import the required modules and activate the Python wrapper"
   ]
  },
  {
   "cell_type": "code",
   "execution_count": 1,
   "metadata": {},
   "outputs": [],
   "source": [
    "from math import *\n",
    "import orekit\n",
    "vm = orekit.initVM()"
   ]
  },
  {
   "cell_type": "code",
   "execution_count": 2,
   "metadata": {},
   "outputs": [],
   "source": [
    "from orekit.pyhelpers import setup_orekit_curdir\n",
    "setup_orekit_curdir()"
   ]
  },
  {
   "cell_type": "markdown",
   "metadata": {},
   "source": [
    "# Import required modules from Orekit and from the Sundial class"
   ]
  },
  {
   "cell_type": "code",
   "execution_count": 3,
   "metadata": {},
   "outputs": [],
   "source": [
    "from sundial import Sundial, utc2local_time, local_time2utc\n",
    "from org.orekit.time import AbsoluteDate, TimeScalesFactory"
   ]
  },
  {
   "cell_type": "markdown",
   "metadata": {},
   "source": [
    "### Declaring an instance from the Sundial class"
   ]
  },
  {
   "cell_type": "code",
   "execution_count": 7,
   "metadata": {},
   "outputs": [],
   "source": [
    "sundial = Sundial(lat=48.58, longi=7.75, alt=142.0, loc=\"Strasbourg Frame\", time_zone=1.0, gnomon_length=1.0)"
   ]
  },
  {
   "cell_type": "markdown",
   "metadata": {},
   "source": [
    "### Checks if it is night (i.e. elevation < 0) at 5.32PM the 28 November 2020 in Strasbourg (spoiler, it is!)"
   ]
  },
  {
   "cell_type": "code",
   "execution_count": 30,
   "metadata": {},
   "outputs": [
    {
     "data": {
      "text/plain": [
       "-8.846259301811504"
      ]
     },
     "execution_count": 30,
     "metadata": {},
     "output_type": "execute_result"
    }
   ],
   "source": [
    "local_date = AbsoluteDate(2020, 11, 28, 17, 32, 0.0, TimeScalesFactory.getUTC())\n",
    "utc_date = local_time2utc(local_date, 1, False)\n",
    "sundial.get_sun_elevation_degrees(utc_date)"
   ]
  },
  {
   "cell_type": "markdown",
   "metadata": {},
   "source": [
    "### Computes the length of the gnomon shadow at the zenith the 28 November 2020 in Strasbourg"
   ]
  },
  {
   "cell_type": "code",
   "execution_count": 35,
   "metadata": {},
   "outputs": [
    {
     "data": {
      "text/plain": [
       "2.7485083411141935"
      ]
     },
     "execution_count": 35,
     "metadata": {},
     "output_type": "execute_result"
    }
   ],
   "source": [
    "zenith_date = sundial.get_zenith_local_time(2020, 11, 28, False)\n",
    "utc_zenith_date = local_time2utc(local_date, 1, False)\n",
    "sundial.get_gnomon_shadow_length(utc_date)"
   ]
  },
  {
   "cell_type": "markdown",
   "metadata": {},
   "source": [
    "### Checks that the maximum elevation of the Sun is smaller in winter than in summer"
   ]
  },
  {
   "cell_type": "code",
   "execution_count": 19,
   "metadata": {},
   "outputs": [
    {
     "data": {
      "text/plain": [
       "19.993092708378217"
      ]
     },
     "execution_count": 19,
     "metadata": {},
     "output_type": "execute_result"
    }
   ],
   "source": [
    "eleMax, _ = sundial.get_sun_max_elevation(2020, 11, 28)\n",
    "degrees(eleMax)"
   ]
  },
  {
   "cell_type": "code",
   "execution_count": 36,
   "metadata": {},
   "outputs": [
    {
     "data": {
      "text/plain": [
       "60.224464631762636"
      ]
     },
     "execution_count": 36,
     "metadata": {},
     "output_type": "execute_result"
    }
   ],
   "source": [
    "eleMax, _ = sundial.get_sun_max_elevation(2020, 7, 28)\n",
    "degrees(eleMax)"
   ]
  },
  {
   "cell_type": "markdown",
   "metadata": {},
   "source": [
    "### Returns all the angles between the gnomon shadow and the East, beginning at zenith time"
   ]
  },
  {
   "cell_type": "code",
   "execution_count": 38,
   "metadata": {},
   "outputs": [
    {
     "data": {
      "text/plain": [
       "[89.98783185520044,\n",
       " 75.18714246853462,\n",
       " 61.06115412979757,\n",
       " 48.001681800679044,\n",
       " 36.04461188280528,\n",
       " 24.95648069573794,\n",
       " 14.336755535614714,\n",
       " 3.6509675222054097,\n",
       " -7.82905231192121,\n",
       " -21.196096431793567,\n",
       " -38.17733226090492,\n",
       " -61.03048324684023]"
      ]
     },
     "execution_count": 38,
     "metadata": {},
     "output_type": "execute_result"
    }
   ],
   "source": [
    "sundial.get_all_gnomon_shadow_angle_degrees(2020, 11, 26)"
   ]
  }
 ],
 "metadata": {
  "kernelspec": {
   "display_name": "Python 3",
   "language": "python",
   "name": "python3"
  },
  "language_info": {
   "codemirror_mode": {
    "name": "ipython",
    "version": 3
   },
   "file_extension": ".py",
   "mimetype": "text/x-python",
   "name": "python",
   "nbconvert_exporter": "python",
   "pygments_lexer": "ipython3",
   "version": "3.8.5"
  }
 },
 "nbformat": 4,
 "nbformat_minor": 4
}
